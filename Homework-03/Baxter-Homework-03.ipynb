{
 "cells": [
  {
   "cell_type": "markdown",
   "metadata": {},
   "source": [
    "# GEOG 288 CJ - Homework 3 \n",
    "## Ian Baxter"
   ]
  },
  {
   "cell_type": "code",
   "execution_count": 2,
   "metadata": {},
   "outputs": [],
   "source": [
    "import numpy as np\n",
    "import matplotlib.pyplot as plt"
   ]
  },
  {
   "cell_type": "markdown",
   "metadata": {},
   "source": [
    "1)\tYou have 30-minute averages of wind speed from cup anemometers at two levels above a uniform surface under nearly neutral conditions (potential temperature constant with height). You find that at 1.5 m the mean wind speed is 2.7 m s-1 and at 6.2 m the wind speed is 3.19 m s-1.\n",
    "\n",
    "Calculate the friction velocity u*, the roughness length z0, the shear stress and the wind speed at a height of 10 m. Assume the air density is 1.15 kg m-3 and the Von Karman’s constant is 0.4.\n",
    "\n",
    "Based on your calculation of z0, do some research in textbooks and internet to find out what type of underlying surface have been during the experiment with the data above.\n"
   ]
  },
  {
   "cell_type": "markdown",
   "metadata": {},
   "source": [
    "\\begin{align}\n",
    "z = 1.5  m, \n",
    "U = 2.7  ms^{-1}, \n",
    "z_{1} = 6.2  m\n",
    "\\end{align}"
   ]
  },
  {
   "cell_type": "markdown",
   "metadata": {},
   "source": [
    "\\begin{align}\n",
    "\\frac{dU}{dz} = \\frac{u^{*}}{z}\n",
    "\\end{align}"
   ]
  },
  {
   "cell_type": "markdown",
   "metadata": {},
   "source": [
    "\\begin{align}\n",
    "\\frac{dU}{dz} = \\frac{u^{*}}{kz}, k = 0.4\n",
    "\\end{align}"
   ]
  },
  {
   "cell_type": "markdown",
   "metadata": {},
   "source": [
    "\\begin{align}\n",
    "U = \\frac{u^{*}}{k} \\ln{z} + C\n",
    "\\end{align}"
   ]
  },
  {
   "cell_type": "markdown",
   "metadata": {},
   "source": [
    "\\begin{align}\n",
    "U_{1} = \\frac{u^{*}}{k} \\ln{(\\frac{z_1}{z_{o}})}\n",
    "\\end{align}"
   ]
  },
  {
   "cell_type": "markdown",
   "metadata": {},
   "source": [
    "\\begin{align}\n",
    "-U_{2} = -\\frac{u^{*}}{k} \\ln{(\\frac{z_2}{z_{o}})}\n",
    "\\end{align}"
   ]
  },
  {
   "cell_type": "markdown",
   "metadata": {},
   "source": [
    "\\begin{align}\n",
    "U_{1} - U_{2} = \\frac{u^{*}}{k} \\ln{\\frac{z_{1}}{z_{2}}}\n",
    "\\end{align}"
   ]
  },
  {
   "cell_type": "markdown",
   "metadata": {},
   "source": [
    "\\begin{align}\n",
    "\\frac{u^{*}}{k} = \\frac{z_{2}}{z_{1}} \\exp{(U_{1} - U_{2})}\n",
    "\\end{align}"
   ]
  },
  {
   "cell_type": "code",
   "execution_count": 3,
   "metadata": {},
   "outputs": [
    {
     "name": "stdout",
     "output_type": "stream",
     "text": [
      "u_star_k = 0.3452931161832485\n",
      "u_star = 0.1381172464732994 m/s\n"
     ]
    }
   ],
   "source": [
    "U_1 = 2.7\n",
    "z_1 = 1.5\n",
    "U_2 = 3.19\n",
    "z_2 = 6.2\n",
    "rho = 1.15\n",
    "k = 0.4\n",
    "z_3 = 10\n",
    "\n",
    "u_star_k = (U_1-U_2)/np.log(z_1/z_2)\n",
    "print('u_star_k =',u_star_k)\n",
    "u_star = u_star_k * 0.4\n",
    "print('u_star =',u_star,'m/s')"
   ]
  },
  {
   "cell_type": "markdown",
   "metadata": {},
   "source": [
    "\\begin{align}\n",
    "\\ln{\\frac{z_{1}}{z_{o}}} = U_{1}\\frac{k}{u_{*}}\n",
    "\\end{align}"
   ]
  },
  {
   "cell_type": "markdown",
   "metadata": {},
   "source": [
    "\\begin{align}\n",
    "\\ln{z_{1}} - \\ln{z_{o}} = U_{1} \\frac{k}{u_{*}}\n",
    "\\end{align}"
   ]
  },
  {
   "cell_type": "markdown",
   "metadata": {},
   "source": [
    "\\begin{align}\n",
    "\\ln{z_{o}} = \\ln_{z_{1}} - U_{1}\\frac{k}{u_{*}}\n",
    "\\end{align}"
   ]
  },
  {
   "cell_type": "markdown",
   "metadata": {},
   "source": [
    "\\begin{align}\n",
    "z_{o} = \\exp{(\\ln{z_{1}}-U_{1}\\frac{k}{u^{*}})}\n",
    "\\end{align}"
   ]
  },
  {
   "cell_type": "code",
   "execution_count": 4,
   "metadata": {},
   "outputs": [
    {
     "name": "stdout",
     "output_type": "stream",
     "text": [
      "-7.413978354434248\n",
      "z_o = 0.0006027678937846366 m\n"
     ]
    }
   ],
   "source": [
    "ln_z_0 = np.log(z_1)-U_1*(1/u_star_k)\n",
    "print(ln_z_0)\n",
    "z_0 = np.exp(ln_z_0)\n",
    "print('z_o =',z_0, 'm')"
   ]
  },
  {
   "cell_type": "markdown",
   "metadata": {},
   "source": [
    "\\begin{align}\n",
    "u^{*} = (\\tau_{o}/\\rho)^{1/2}\n",
    "\\end{align}"
   ]
  },
  {
   "cell_type": "markdown",
   "metadata": {},
   "source": [
    "\\begin{align}\n",
    "\\tau_o = \\rho u_{*}^{2} \n",
    "\\end{align}"
   ]
  },
  {
   "cell_type": "code",
   "execution_count": 5,
   "metadata": {},
   "outputs": [
    {
     "name": "stdout",
     "output_type": "stream",
     "text": [
      "Tau = 0.021937829839371054 N/m^2\n"
     ]
    }
   ],
   "source": [
    "# Tau\n",
    "tau = rho * u_star ** 2\n",
    "print('Tau =',tau,'N/m^2')"
   ]
  },
  {
   "cell_type": "code",
   "execution_count": 6,
   "metadata": {},
   "outputs": [
    {
     "name": "stdout",
     "output_type": "stream",
     "text": [
      "U at 10m = 3.3550624713547634 m/s\n"
     ]
    }
   ],
   "source": [
    "U_10 = (u_star_k)*np.log(10/z_0)\n",
    "print('U at 10m =',U_10,'m/s')"
   ]
  },
  {
   "cell_type": "code",
   "execution_count": 13,
   "metadata": {},
   "outputs": [
    {
     "data": {
      "image/png": "[encoded data removed]",
      "text/plain": [
       "<Figure size 432x288 with 1 Axes>"
      ]
     },
     "metadata": {
      "needs_background": "light"
     },
     "output_type": "display_data"
    }
   ],
   "source": [
    "fig = plt.figure()\n",
    "\n",
    "ax = plt.axes()\n",
    "ax.set_xlim([-5,10])\n",
    "#ax.set_ylim([0,3.5])\n",
    "ax.set_xlabel('U [m/s]')\n",
    "ax.set_ylabel('ln(z)')\n",
    "ax.axhline(0,linestyle='--',linewidth=0.5,c='black')\n",
    "ax.axvline(0,linestyle='--',linewidth=0.5,c='black')\n",
    "\n",
    "U = np.arange(-5,10,step=0.1)\n",
    "ln_z = U * (1/u_star_k) + ln_z_0\n",
    "plt.plot(U,ln_z)\n",
    "plt.plot(0,ln_z_0,marker='o',markerfacecolor='k',c='k');"
   ]
  },
  {
   "cell_type": "markdown",
   "metadata": {},
   "source": [
    "## Surface Energy Balance\n",
    "\n",
    "### 2)\tProblem 1\n",
    "\n",
    "(a) Over an ocean surface, the Bowen ratio is estimated to be about 0.2. Estimate the sensible and latent heat fluxes to the atmosphere, as well as the rate of evaporation, in millimeters per day, from the ocean surface, when the net radiation received just above the surface is 600 W m-2, the heat flux to the water below 50 m is negligible, the rate of warming of the 50 m deep oceanic mixed layer is 0.08C day-1, and the sea surface temperature is 25C.\n",
    "\n",
    "(b) What will be the rate of warming or cooling of the 50 m deep oceanic mixed layer at the time of intense cold-air advection when the Bowen ratio is estimated to be 0.5, the net radiation loss from the surface is 50 W m-2, and the rate of evaporation is 20 mm day-1?\n"
   ]
  },
  {
   "cell_type": "markdown",
   "metadata": {},
   "source": [
    "\\begin{align}\n",
    "\\Delta{H_{S}} = \\int{\\frac{\\partial{}}{\\partial{t}} (\\rho c T) dz}\n",
    "\\end{align}"
   ]
  },
  {
   "cell_type": "markdown",
   "metadata": {},
   "source": [
    "\\begin{align} \n",
    "H_{G} = R_{N} - H - H_{L} - \\Delta{H_{S}}\n",
    "\\end{align}"
   ]
  },
  {
   "cell_type": "markdown",
   "metadata": {},
   "source": [
    "\\begin{align}\n",
    "H = \\frac{R_{N} - H_{G}}{1 + B^{-1}}\n",
    "\\end{align}"
   ]
  },
  {
   "cell_type": "markdown",
   "metadata": {},
   "source": [
    "\\begin{align}\n",
    "H_{L} = \\frac{R_{N} - H_{G}}{1 + B}\n",
    "\\end{align}"
   ]
  },
  {
   "cell_type": "markdown",
   "metadata": {},
   "source": [
    "\\begin{align}\n",
    "H_{L} = L_{e}E,   L_{e} = 2.45*10^{6}  Jkg^{-1}\n",
    "\\end{align}"
   ]
  },
  {
   "cell_type": "markdown",
   "metadata": {},
   "source": [
    "\\begin{align}\n",
    "E = \\frac{H_{L}}{L_e{}}\n",
    "\\end{align}"
   ]
  },
  {
   "cell_type": "code",
   "execution_count": 75,
   "metadata": {},
   "outputs": [
    {
     "name": "stdout",
     "output_type": "stream",
     "text": [
      "dHs = 183.40972222222223 Wm^-2\n",
      "H = 69.43171296296296 Wm^-2\n",
      "H_L = 347.15856481481484 W/m^2\n",
      "E = 12.242653061224491 mm/day\n"
     ]
    }
   ],
   "source": [
    "B = 0.2\n",
    "R_n = 600\n",
    "dTdt = 0.08 / 86400\n",
    "sst = 25 + 273.15\n",
    "sigma = 5.65*10**-8\n",
    "rho_w = 1029\n",
    "cp_w = 3850\n",
    "dz = 50\n",
    "L_e = 2.45 * 10**6\n",
    "H_g = 0\n",
    "\n",
    "# Energy storage of ocean mixed layer\n",
    "dHs = rho_w * cp_w * dTdt * dz\n",
    "print('dHs =',dHs,'Wm^-2')\n",
    "\n",
    "# Sensible Heat Flux\n",
    "H = (R_n - H_g - dHs) / (1 + B**(-1))\n",
    "print('H =', H, 'Wm^-2')\n",
    "\n",
    "# Latent Heat Flux\n",
    "H_L = (R_n - H_g - dHs) / (1 + B)\n",
    "\n",
    "# Evaporation Rate\n",
    "E = H_L /(L_e) * 86400\n",
    "print('H_L =',H_L,'W/m^2')\n",
    "print('E =',E, 'mm/day')"
   ]
  },
  {
   "cell_type": "markdown",
   "metadata": {},
   "source": [
    "\\begin{align}\n",
    "H_{L} = L_{e} E\n",
    "\\end{align}"
   ]
  },
  {
   "cell_type": "markdown",
   "metadata": {},
   "source": [
    "\\begin{align}\n",
    "H_{G} = R_{N} - H_{L}(1 + B)\n",
    "\\end{align}"
   ]
  },
  {
   "cell_type": "markdown",
   "metadata": {},
   "source": [
    "\\begin{align}\n",
    "H = \\frac{R_{N} - H_{G}}{1 + B}\n",
    "\\end{align}"
   ]
  },
  {
   "cell_type": "markdown",
   "metadata": {},
   "source": [
    "\\begin{align} \n",
    "\\Delta{H_{S}} = R_{N} - H - H_{L} - H_{G}\n",
    "\\end{align}"
   ]
  },
  {
   "cell_type": "markdown",
   "metadata": {},
   "source": [
    "\\begin{align}\n",
    "\\frac{\\partial{T}}{\\partial{t}} = \\frac{\\Delta{H_{S}}}{\\rho c dz}\n",
    "\\end{align}"
   ]
  },
  {
   "cell_type": "code",
   "execution_count": 1,
   "metadata": {},
   "outputs": [
    {
     "name": "stdout",
     "output_type": "stream",
     "text": [
      "H_L = 567.1296296296297 W/m^2\n",
      "H = 283.56481481481484 Wm^-2\n",
      "dHs = -900.6944444444446\n",
      "dTdt = -0.39286660861004885 Kday^-1\n"
     ]
    }
   ],
   "source": [
    "B = 0.5\n",
    "R_n = -50\n",
    "E = 20 / 86400 / 1000\n",
    "sst = 25\n",
    "rho_w = 1029\n",
    "cp_w = 3850\n",
    "L_e = 2.45 * 10**6\n",
    "dz = 50\n",
    "H_g = 0 \n",
    "\n",
    "# H_L from E\n",
    "H_L = L_e * E * 1000\n",
    "print('H_L =',H_L,'W/m^2')\n",
    "\n",
    "# Sensible Heat Flux\n",
    "#H = (R_n - H_g) / (1 + B**(-1))\n",
    "H = H_L * B\n",
    "print('H =',H,'Wm^-2')\n",
    "\n",
    "# Internal Heat Storage change\n",
    "dHs = R_n - H - H_L - H_g\n",
    "print('dHs =', dHs)\n",
    "\n",
    "# Heating rate\n",
    "dTdt = dHs / (rho_w * cp_w * dz) * 86400\n",
    "print('dTdt =',dTdt, 'Kday^-1')"
   ]
  },
  {
   "cell_type": "markdown",
   "metadata": {},
   "source": [
    "## Radiation Balance near the Surface\n",
    "\n",
    "### 3)\tProblem 2 - The following measurements were made over a short grass surface on a winter night when no evaporation or condensation occurred:\n",
    "\n",
    "Outgoing longwave radiation from the surface = 365 W m-2\n",
    "Incoming longwave radiation from the atmosphere = 295 W m-2\n",
    "Ground heat flux from the soil = 45 W m-2\n",
    "\n",
    "(a) Calculate the apparent (equivalent blackbody) temperature of the surface. \n",
    "\n",
    "(b) Calculate the actual surface temperature if surface emissivity is 0.92.\n",
    "\n",
    "(c) Estimate the sensible heat flux to or from air.\n",
    "\n"
   ]
  },
  {
   "cell_type": "markdown",
   "metadata": {},
   "source": [
    "\\begin{align}\n",
    "\\sigma T ^{4}\n",
    "\\end{align}"
   ]
  },
  {
   "cell_type": "markdown",
   "metadata": {},
   "source": [
    "\\begin{align}\n",
    "T = (\\frac{E}{\\sigma \\epsilon})^{4}\n",
    "\\end{align}"
   ]
  },
  {
   "cell_type": "markdown",
   "metadata": {},
   "source": [
    "\\begin{align}\n",
    "H = R_{N} - H_{G}\n",
    "\\end{align}"
   ]
  },
  {
   "cell_type": "code",
   "execution_count": 107,
   "metadata": {},
   "outputs": [
    {
     "name": "stdout",
     "output_type": "stream",
     "text": [
      "Apparent blackbody T = 283.25491302538177 K\n",
      "Actual surface T = 289.22144697038755 K\n",
      "Sensible heat flux to or from air = 25 W/m^2\n"
     ]
    }
   ],
   "source": [
    "T = (365/5.67*10**8)**(1/4)\n",
    "print('Apparent blackbody T =',T,'K')\n",
    "T = (365/5.67*10**8/0.92)**(1/4)\n",
    "print('Actual surface T =',T, 'K')\n",
    "H = (365 - 295) - 45\n",
    "print('Sensible heat flux to or from air =', H, 'W/m^2')"
   ]
  },
  {
   "cell_type": "markdown",
   "metadata": {},
   "source": [
    "### Problem 3\n",
    "\n",
    "(a) Estimate the combined sensible and latent heat fluxes from the surface to the atmosphere, given the following observations:\n",
    "\n",
    "Incoming shortwave radiation = 800 W m-2\n",
    "\n",
    "Heat flux to the sub-medium = 150 W m-2\n",
    "\n",
    "Albedo of the surface = 0.35\n"
   ]
  },
  {
   "cell_type": "markdown",
   "metadata": {},
   "source": [
    "\\begin{align}\n",
    "H + H_{L} = (R_{n} * \\alpha) - H_{G}\n",
    "\\end{align}"
   ]
  },
  {
   "cell_type": "code",
   "execution_count": 106,
   "metadata": {},
   "outputs": [
    {
     "name": "stdout",
     "output_type": "stream",
     "text": [
      "a) Sensible + Latent Heat = 130.0 W/m^2\n",
      "b) Sensible + Latent Heat = -94.0 W/m^2\n"
     ]
    }
   ],
   "source": [
    "H = 800 * 0.35 - 150\n",
    "print('a) Sensible + Latent Heat =',H,'W/m^2')\n",
    "H = 800 * 0.07 - 150\n",
    "print('b) Sensible + Latent Heat =',H,'W/m^2')"
   ]
  },
  {
   "cell_type": "markdown",
   "metadata": {},
   "source": [
    "### Problem 4 - The following measurements were made at night from a meteorological tower:\n",
    "\n",
    "Net radiation at the 2 m level =-125 W m-2\n",
    "\n",
    "Net radiation at the 100 m level =-165 W m-2\n",
    "\n",
    "Sensible heat flux at the surface =-75 W m-2\n",
    "\n",
    "Planetary boundary layer height = 80 m\n",
    "\n",
    "Calculate the average rate of cooling in the PBL due to the following: \n"
   ]
  },
  {
   "cell_type": "markdown",
   "metadata": {},
   "source": [
    "\\begin{align}\n",
    "(\\frac{\\partial{T}}{\\partial{t}})_{R} = \\frac{1}{\\rho c_{p}} \\frac{\\partial{R_{N}}}{\\partial{z}}\n",
    "\\end{align}"
   ]
  },
  {
   "cell_type": "code",
   "execution_count": 2,
   "metadata": {},
   "outputs": [
    {
     "name": "stdout",
     "output_type": "stream",
     "text": [
      "a) PBL cooling due to radiative flux divergence = -29.38775510204082 K/hr\n",
      "b) PBL cooling due to sensible heat flux divergence = -67.5 K/hr\n"
     ]
    }
   ],
   "source": [
    "radiative_flux_divergence = (1/1200)*((-165+125)/(100-2)) * 86400\n",
    "print('a) PBL cooling due to radiative flux divergence =',radiative_flux_divergence, 'K/hr')\n",
    "sensible_heat_flux_divergence = (-1/1200)*((0+75)/80) * 86400\n",
    "print('b) PBL cooling due to sensible heat flux divergence =',sensible_heat_flux_divergence, 'K/hr')"
   ]
  },
  {
   "cell_type": "code",
   "execution_count": null,
   "metadata": {},
   "outputs": [],
   "source": []
  }
 ],
 "metadata": {
  "kernelspec": {
   "display_name": "Python 3",
   "language": "python",
   "name": "python3"
  },
  "language_info": {
   "codemirror_mode": {
    "name": "ipython",
    "version": 3
   },
   "file_extension": ".py",
   "mimetype": "text/x-python",
   "name": "python",
   "nbconvert_exporter": "python",
   "pygments_lexer": "ipython3",
   "version": "3.7.3"
  }
 },
 "nbformat": 4,
 "nbformat_minor": 4
}
