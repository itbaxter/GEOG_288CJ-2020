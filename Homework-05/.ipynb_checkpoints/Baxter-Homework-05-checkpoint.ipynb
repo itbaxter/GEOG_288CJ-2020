{
 "cells": [
  {
   "cell_type": "markdown",
   "metadata": {},
   "source": [
    "# Homework-05\n",
    "## Ian Baxter"
   ]
  },
  {
   "cell_type": "code",
   "execution_count": 43,
   "metadata": {},
   "outputs": [],
   "source": [
    "import numpy as np\n",
    "import pandas as pd"
   ]
  },
  {
   "cell_type": "markdown",
   "metadata": {},
   "source": [
    "**1)\tFor the dataset provided in Gaucho Space, calculate the correlation coefficients between the following quantities:\n",
    "(u, w) (w, T), (u, T), (u, v)**\n"
   ]
  },
  {
   "cell_type": "code",
   "execution_count": 44,
   "metadata": {},
   "outputs": [
    {
     "data": {
      "text/html": [
       "<div>\n",
       "<style scoped>\n",
       "    .dataframe tbody tr th:only-of-type {\n",
       "        vertical-align: middle;\n",
       "    }\n",
       "\n",
       "    .dataframe tbody tr th {\n",
       "        vertical-align: top;\n",
       "    }\n",
       "\n",
       "    .dataframe thead th {\n",
       "        text-align: right;\n",
       "    }\n",
       "</style>\n",
       "<table border=\"1\" class=\"dataframe\">\n",
       "  <thead>\n",
       "    <tr style=\"text-align: right;\">\n",
       "      <th></th>\n",
       "      <th>year</th>\n",
       "      <th>month</th>\n",
       "      <th>day</th>\n",
       "      <th>hour</th>\n",
       "      <th>minutes</th>\n",
       "      <th>seconds</th>\n",
       "      <th>u</th>\n",
       "      <th>v</th>\n",
       "      <th>w</th>\n",
       "      <th>T</th>\n",
       "    </tr>\n",
       "  </thead>\n",
       "  <tbody>\n",
       "    <tr>\n",
       "      <th>0</th>\n",
       "      <td>2008</td>\n",
       "      <td>6</td>\n",
       "      <td>21</td>\n",
       "      <td>12</td>\n",
       "      <td>0</td>\n",
       "      <td>0.0</td>\n",
       "      <td>4.75675</td>\n",
       "      <td>1.39575</td>\n",
       "      <td>2.27300</td>\n",
       "      <td>25.0815</td>\n",
       "    </tr>\n",
       "    <tr>\n",
       "      <th>1</th>\n",
       "      <td>2008</td>\n",
       "      <td>6</td>\n",
       "      <td>21</td>\n",
       "      <td>12</td>\n",
       "      <td>0</td>\n",
       "      <td>0.1</td>\n",
       "      <td>4.65325</td>\n",
       "      <td>1.24525</td>\n",
       "      <td>1.99725</td>\n",
       "      <td>25.3056</td>\n",
       "    </tr>\n",
       "    <tr>\n",
       "      <th>2</th>\n",
       "      <td>2008</td>\n",
       "      <td>6</td>\n",
       "      <td>21</td>\n",
       "      <td>12</td>\n",
       "      <td>0</td>\n",
       "      <td>0.2</td>\n",
       "      <td>4.58150</td>\n",
       "      <td>1.17250</td>\n",
       "      <td>2.05800</td>\n",
       "      <td>25.2142</td>\n",
       "    </tr>\n",
       "    <tr>\n",
       "      <th>3</th>\n",
       "      <td>2008</td>\n",
       "      <td>6</td>\n",
       "      <td>21</td>\n",
       "      <td>12</td>\n",
       "      <td>0</td>\n",
       "      <td>0.3</td>\n",
       "      <td>3.84200</td>\n",
       "      <td>1.60775</td>\n",
       "      <td>2.11575</td>\n",
       "      <td>25.0919</td>\n",
       "    </tr>\n",
       "    <tr>\n",
       "      <th>4</th>\n",
       "      <td>2008</td>\n",
       "      <td>6</td>\n",
       "      <td>21</td>\n",
       "      <td>12</td>\n",
       "      <td>0</td>\n",
       "      <td>0.4</td>\n",
       "      <td>4.08350</td>\n",
       "      <td>1.56525</td>\n",
       "      <td>1.88725</td>\n",
       "      <td>25.0884</td>\n",
       "    </tr>\n",
       "  </tbody>\n",
       "</table>\n",
       "</div>"
      ],
      "text/plain": [
       "   year  month  day  hour  minutes  seconds        u        v        w  \\\n",
       "0  2008      6   21    12        0      0.0  4.75675  1.39575  2.27300   \n",
       "1  2008      6   21    12        0      0.1  4.65325  1.24525  1.99725   \n",
       "2  2008      6   21    12        0      0.2  4.58150  1.17250  2.05800   \n",
       "3  2008      6   21    12        0      0.3  3.84200  1.60775  2.11575   \n",
       "4  2008      6   21    12        0      0.4  4.08350  1.56525  1.88725   \n",
       "\n",
       "         T  \n",
       "0  25.0815  \n",
       "1  25.3056  \n",
       "2  25.2142  \n",
       "3  25.0919  \n",
       "4  25.0884  "
      ]
     },
     "execution_count": 44,
     "metadata": {},
     "output_type": "execute_result"
    }
   ],
   "source": [
    "names = ['year','month','day','hour','minutes','seconds','u','v','w','T']\n",
    "df = pd.read_excel('../Homework-04/homework-04.xlsx',skiprows=np.arange(0,8,step=1),names=names)\n",
    "df.head()"
   ]
  },
  {
   "cell_type": "code",
   "execution_count": null,
   "metadata": {},
   "outputs": [],
   "source": [
    "def read_lbl(k,var='u'):\n",
    "    names = ['year','month','day','hour','minutes','seconds','u','v','w','T']\n",
    "    col_lib = {'u':'G:G','v':'H:H','w':'I:I','T':'J:J'}\n",
    "    df = pd.read_excel('../Homework-04/homework-04.xlsx',skiprows=np.arange(0,k+8,step=1),\n",
    "                       names=names,nrows=1.)\n",
    "    return df\n",
    "\n",
    "# Code for reading the file line-by-line online and computing mean/variance.\n",
    "#@jit\n",
    "def online_mean_variance(var):\n",
    "    \"\"\"adapted from John D. Cook's algorithm\"\"\"\n",
    "#    M,S,M_out,S_out = init()\n",
    "    M = np.zeros(31*10*60)\n",
    "    S = np.zeros(31*60*10)\n",
    "    M[0] = read_lbl(0)[var]\n",
    "    for k in range(1,30*60*10):\n",
    "        x = read_lbl(k)[var]\n",
    "        M[k] = M[k-1] + (x - M[k-1])/k\n",
    "        S[k] = S[k-1] + (x - M[k-1]) * (x - M[k])\n",
    "        if k == 30*60*10:\n",
    "            print(M)\n",
    "            print(np.sqrt(S))\n",
    "    s2 =  S/(k-1)\n",
    "    return M[-1], np.sqrt(s2[-1])\n",
    "\n",
    "def online_mean_variance(var):\n",
    "    \"\"\"adapted from John D. Cook's algorithm\"\"\"\n",
    "    M = np.zeros(31*10*60)\n",
    "    M[0] = df[var][0]\n",
    "    S = np.zeros(31*10*60)\n",
    "    for k in range(1,31*10*60):\n",
    "        M[k] = M[k-1] + (df[var][k] - M[k-1])/k\n",
    "        S[k] = S[k-1] + (df[var][k] - M[k-1]) * (df[var][k] - M[k])\n",
    "    s2 =  S/(k-1)\n",
    "    return M[-1], np.sqrt(s2[-1])\n",
    "\n",
    "vars = ['u','v','w','T']\n",
    "#out = [online_mean_variance(var) for var in vars]\n",
    "out = online_mean_variance('u')\n",
    "print('Mean and standard deviation for all variables calculated using online single-pass algorithm')\n",
    "out"
   ]
  },
  {
   "cell_type": "code",
   "execution_count": 45,
   "metadata": {},
   "outputs": [],
   "source": [
    "def online_covariance(data1, data2):\n",
    "    meanx = meany = C = n = 0\n",
    "    for x, y in zip(data1, data2):\n",
    "        n += 1\n",
    "        dx = x - meanx\n",
    "        meanx += dx / n\n",
    "        meany += (y - meany) / n\n",
    "        C += dx * (y - meany)\n",
    "    return C / n \n",
    "\n",
    "def online_covariance(data1, data2):\n",
    "    meanx = meany = C = n = 0\n",
    "    for x, y in zip(data1, data2):\n",
    "        n += 1\n",
    "        dx = x - meanx\n",
    "        meanx += dx / n\n",
    "        meany += (y - meany) / n\n",
    "        C += dx * (y - meany)\n",
    "    return C / n \n",
    "\n",
    "def online_correlation(data1, data2):\n",
    "    cov = online_covariance(data1, data2)\n",
    "    std1 = np.sqrt(online_covariance(data1,data1))\n",
    "    std2 = np.sqrt(online_covariance(data2,data2))\n",
    "    return cov / std1 / std2\n"
   ]
  },
  {
   "cell_type": "code",
   "execution_count": 46,
   "metadata": {},
   "outputs": [
    {
     "name": "stdout",
     "output_type": "stream",
     "text": [
      "0.08027210096401605 0.5036378574428121 -0.599522820605693 -0.32556486067526424\n"
     ]
    }
   ],
   "source": [
    "uv = online_correlation(df['u'],df['v'])\n",
    "wT = online_correlation(df['w'],df['T'])\n",
    "uT = online_correlation(df['u'],df['T'])\n",
    "uw = online_correlation(df['u'],df['w'])\n",
    "print(uv,wT,uT,uw)"
   ]
  },
  {
   "cell_type": "code",
   "execution_count": 47,
   "metadata": {},
   "outputs": [],
   "source": [
    "def correlation_test(x,y):\n",
    "    return np.mean((x - np.mean(x))*(y-np.mean(y)))/np.std(x)/np.std(y)"
   ]
  },
  {
   "cell_type": "code",
   "execution_count": 48,
   "metadata": {},
   "outputs": [
    {
     "name": "stdout",
     "output_type": "stream",
     "text": [
      "0.08027210096401703 0.5036378574428159 -0.5995228206057012 -0.3255648606752654\n"
     ]
    }
   ],
   "source": [
    "uv = correlation_test(df['u'],df['v'])\n",
    "wT = correlation_test(df['w'],df['T'])\n",
    "uT = correlation_test(df['u'],df['T'])\n",
    "uw = correlation_test(df['u'],df['w'])\n",
    "print(uv,wT,uT,uw)"
   ]
  },
  {
   "cell_type": "markdown",
   "metadata": {},
   "source": [
    "**Discuss the magnitudes and signs of the calculated correlation coefficients in relation to those expected for the atmospheric surface layer; see page 74 of the ABL notes for an example of a correlation coefficient.**"
   ]
  },
  {
   "cell_type": "markdown",
   "metadata": {},
   "source": [
    "There is no correlation between u and v. This is understandable because there is generally very little horizontal momentum flux. \n",
    "\n",
    "The correlation between w and T is positive and relatively strong, therefore there is likely upward heat flux taking place.\n",
    "\n",
    "The negative correlation between u and T suggests that the horizontal heat flux is opposite the zonal winds.\n",
    "\n",
    "The correlation between u and w is around the typical neutral value. It is typically negative because the surface serves as a momentum sink, so the momentum flux will be down into the surface. "
   ]
  },
  {
   "cell_type": "markdown",
   "metadata": {},
   "source": [
    "**Express the vertical heat flux and Reynolds stress in appropriate units. Take = 1.15 kg m-3, Cp = 1004 J kg-1 K-1. Also express these fluxes in kinematic units. What is the value of the friction velocity?**"
   ]
  },
  {
   "cell_type": "code",
   "execution_count": 49,
   "metadata": {},
   "outputs": [],
   "source": [
    "rho = 1.15 # kg m-3\n",
    "Cp = 1004 # J kg-1 K-1"
   ]
  },
  {
   "cell_type": "markdown",
   "metadata": {},
   "source": [
    "**Dynamic Vertical Heat Flux**"
   ]
  },
  {
   "cell_type": "markdown",
   "metadata": {},
   "source": [
    "\\begin{align}\n",
    "\\bar{ w^{\\prime} T^{\\prime} }\n",
    "\\end{align}"
   ]
  },
  {
   "cell_type": "code",
   "execution_count": 50,
   "metadata": {},
   "outputs": [
    {
     "data": {
      "text/plain": [
       "0.2239081198012501"
      ]
     },
     "execution_count": 50,
     "metadata": {},
     "output_type": "execute_result"
    }
   ],
   "source": [
    "H = online_covariance(df['w'],df['T'])\n",
    "H"
   ]
  },
  {
   "cell_type": "code",
   "execution_count": 51,
   "metadata": {},
   "outputs": [
    {
     "data": {
      "text/plain": [
       "0.0001939270048512473"
      ]
     },
     "execution_count": 51,
     "metadata": {},
     "output_type": "execute_result"
    }
   ],
   "source": [
    "H = online_covariance(df['w'],df['T']) / rho / Cp\n",
    "H"
   ]
  },
  {
   "cell_type": "markdown",
   "metadata": {},
   "source": [
    "**Reynold's Stress**"
   ]
  },
  {
   "cell_type": "markdown",
   "metadata": {},
   "source": [
    "\\begin{align}\n",
    "\\tau = -\\rho \\bar{u^{\\prime} w^{\\prime}}\n",
    "\\end{align}"
   ]
  },
  {
   "cell_type": "markdown",
   "metadata": {},
   "source": [
    "Using cup speed"
   ]
  },
  {
   "cell_type": "code",
   "execution_count": 52,
   "metadata": {},
   "outputs": [
    {
     "data": {
      "text/plain": [
       "-0.7142115389694704"
      ]
     },
     "execution_count": 52,
     "metadata": {},
     "output_type": "execute_result"
    }
   ],
   "source": [
    "tau = rho * online_covariance(np.sqrt(df['u'] * df['u'] + df['v'] * df['v']),df['w'])\n",
    "tau"
   ]
  },
  {
   "cell_type": "markdown",
   "metadata": {},
   "source": [
    "Using just zonal wind"
   ]
  },
  {
   "cell_type": "code",
   "execution_count": 53,
   "metadata": {},
   "outputs": [
    {
     "data": {
      "text/plain": [
       "-0.7367567348182796"
      ]
     },
     "execution_count": 53,
     "metadata": {},
     "output_type": "execute_result"
    }
   ],
   "source": [
    "tau_x = rho * online_covariance(df['u'],df['w'])\n",
    "tau_x"
   ]
  },
  {
   "cell_type": "markdown",
   "metadata": {},
   "source": [
    "**Friction velocity**\n",
    "\n",
    "Assuming that in the surface layer the Reynold's stress is constant."
   ]
  },
  {
   "cell_type": "markdown",
   "metadata": {},
   "source": [
    "\\begin{align}\n",
    "u^{*} = (\\tau_{o} / \\rho)^{\\frac{1}{2}}\n",
    "\\end{align}"
   ]
  },
  {
   "cell_type": "code",
   "execution_count": 54,
   "metadata": {},
   "outputs": [
    {
     "data": {
      "text/plain": [
       "0.8004111632634598"
      ]
     },
     "execution_count": 54,
     "metadata": {},
     "output_type": "execute_result"
    }
   ],
   "source": [
    "u_star = np.sqrt(-online_covariance(df['u'],df['w']))\n",
    "u_star"
   ]
  },
  {
   "cell_type": "markdown",
   "metadata": {},
   "source": [
    "**It is normal to find that in the near-neutral surface layer, the friction velocity and the standard deviation of the vertical velocity are proportional to each other such that w / U* = 1.25\n",
    "Compare this with the value of the ratio you calculate from the data provided. Comment on the result, noting that a typical (u, w) correlation coefficient for the surface layer is of the order of -0.3; see page 74 of the ABL notes.**"
   ]
  },
  {
   "cell_type": "code",
   "execution_count": 55,
   "metadata": {},
   "outputs": [
    {
     "data": {
      "text/plain": [
       "0.9986547038922733"
      ]
     },
     "execution_count": 55,
     "metadata": {},
     "output_type": "execute_result"
    }
   ],
   "source": [
    "std_w = np.sqrt(online_covariance(df['w'],df['w']))\n",
    "std_w"
   ]
  },
  {
   "cell_type": "code",
   "execution_count": 56,
   "metadata": {},
   "outputs": [
    {
     "data": {
      "text/plain": [
       "1.2476771311141253"
      ]
     },
     "execution_count": 56,
     "metadata": {},
     "output_type": "execute_result"
    }
   ],
   "source": [
    "ratio = std_w / u_star\n",
    "ratio"
   ]
  },
  {
   "cell_type": "markdown",
   "metadata": {},
   "source": [
    "The ratio calculated here is similar to the typical ratio provided. The correlation coefficient for this dataset is also of the same magnitude as a typical surface layer. These results suggest that the surface layer being examined was likely experiencing fairly typical neutral conditions. "
   ]
  }
 ],
 "metadata": {
  "kernelspec": {
   "display_name": "Python 3",
   "language": "python",
   "name": "python3"
  },
  "language_info": {
   "codemirror_mode": {
    "name": "ipython",
    "version": 3
   },
   "file_extension": ".py",
   "mimetype": "text/x-python",
   "name": "python",
   "nbconvert_exporter": "python",
   "pygments_lexer": "ipython3",
   "version": "3.7.3"
  }
 },
 "nbformat": 4,
 "nbformat_minor": 4
}
