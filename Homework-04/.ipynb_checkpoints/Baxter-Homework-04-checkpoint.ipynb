{
 "cells": [
  {
   "cell_type": "markdown",
   "metadata": {},
   "source": [
    "# GEOG 288CJ Homework-04\n",
    "\n",
    "## Ian Baxter"
   ]
  },
  {
   "cell_type": "code",
   "execution_count": 1,
   "metadata": {},
   "outputs": [],
   "source": [
    "import numpy as np\n",
    "from numba import jit\n",
    "import pandas as pd"
   ]
  },
  {
   "cell_type": "markdown",
   "metadata": {},
   "source": [
    "****1)\tFor the dataset provided in Gaucho Space, calculate the following quantities:***\n",
    "\n",
    "***a)\tThe means and standard deviations of u, v, w and T***\n",
    "\n",
    "***b)\tThe mean “cup” speed. How does this speed compare with the cup speed estimated using the expression on page 31 of the ABL notes?***\n",
    "\n",
    "***c)\tThe skewnesses of u, v, w and T***\n",
    "\n",
    "***Important: suppose that you are “online”, that is, your computer code should provide statistics on the fly after 30-min. In other words, do not compute the means first and then read the data again, subtracting off the means to compute variances. Include your computed code with your answers***\n"
   ]
  },
  {
   "cell_type": "markdown",
   "metadata": {},
   "source": [
    "## 1) Means and standard deviations "
   ]
  },
  {
   "cell_type": "code",
   "execution_count": 2,
   "metadata": {},
   "outputs": [
    {
     "data": {
      "text/html": [
       "<div>\n",
       "<style scoped>\n",
       "    .dataframe tbody tr th:only-of-type {\n",
       "        vertical-align: middle;\n",
       "    }\n",
       "\n",
       "    .dataframe tbody tr th {\n",
       "        vertical-align: top;\n",
       "    }\n",
       "\n",
       "    .dataframe thead th {\n",
       "        text-align: right;\n",
       "    }\n",
       "</style>\n",
       "<table border=\"1\" class=\"dataframe\">\n",
       "  <thead>\n",
       "    <tr style=\"text-align: right;\">\n",
       "      <th></th>\n",
       "      <th>year</th>\n",
       "      <th>month</th>\n",
       "      <th>day</th>\n",
       "      <th>hour</th>\n",
       "      <th>minutes</th>\n",
       "      <th>seconds</th>\n",
       "      <th>u</th>\n",
       "      <th>v</th>\n",
       "      <th>w</th>\n",
       "      <th>T</th>\n",
       "    </tr>\n",
       "  </thead>\n",
       "  <tbody>\n",
       "    <tr>\n",
       "      <th>0</th>\n",
       "      <td>2008</td>\n",
       "      <td>6</td>\n",
       "      <td>21</td>\n",
       "      <td>12</td>\n",
       "      <td>0</td>\n",
       "      <td>0.0</td>\n",
       "      <td>4.75675</td>\n",
       "      <td>1.39575</td>\n",
       "      <td>2.27300</td>\n",
       "      <td>25.0815</td>\n",
       "    </tr>\n",
       "    <tr>\n",
       "      <th>1</th>\n",
       "      <td>2008</td>\n",
       "      <td>6</td>\n",
       "      <td>21</td>\n",
       "      <td>12</td>\n",
       "      <td>0</td>\n",
       "      <td>0.1</td>\n",
       "      <td>4.65325</td>\n",
       "      <td>1.24525</td>\n",
       "      <td>1.99725</td>\n",
       "      <td>25.3056</td>\n",
       "    </tr>\n",
       "    <tr>\n",
       "      <th>2</th>\n",
       "      <td>2008</td>\n",
       "      <td>6</td>\n",
       "      <td>21</td>\n",
       "      <td>12</td>\n",
       "      <td>0</td>\n",
       "      <td>0.2</td>\n",
       "      <td>4.58150</td>\n",
       "      <td>1.17250</td>\n",
       "      <td>2.05800</td>\n",
       "      <td>25.2142</td>\n",
       "    </tr>\n",
       "    <tr>\n",
       "      <th>3</th>\n",
       "      <td>2008</td>\n",
       "      <td>6</td>\n",
       "      <td>21</td>\n",
       "      <td>12</td>\n",
       "      <td>0</td>\n",
       "      <td>0.3</td>\n",
       "      <td>3.84200</td>\n",
       "      <td>1.60775</td>\n",
       "      <td>2.11575</td>\n",
       "      <td>25.0919</td>\n",
       "    </tr>\n",
       "    <tr>\n",
       "      <th>4</th>\n",
       "      <td>2008</td>\n",
       "      <td>6</td>\n",
       "      <td>21</td>\n",
       "      <td>12</td>\n",
       "      <td>0</td>\n",
       "      <td>0.4</td>\n",
       "      <td>4.08350</td>\n",
       "      <td>1.56525</td>\n",
       "      <td>1.88725</td>\n",
       "      <td>25.0884</td>\n",
       "    </tr>\n",
       "  </tbody>\n",
       "</table>\n",
       "</div>"
      ],
      "text/plain": [
       "   year  month  day  hour  minutes  seconds        u        v        w  \\\n",
       "0  2008      6   21    12        0      0.0  4.75675  1.39575  2.27300   \n",
       "1  2008      6   21    12        0      0.1  4.65325  1.24525  1.99725   \n",
       "2  2008      6   21    12        0      0.2  4.58150  1.17250  2.05800   \n",
       "3  2008      6   21    12        0      0.3  3.84200  1.60775  2.11575   \n",
       "4  2008      6   21    12        0      0.4  4.08350  1.56525  1.88725   \n",
       "\n",
       "         T  \n",
       "0  25.0815  \n",
       "1  25.3056  \n",
       "2  25.2142  \n",
       "3  25.0919  \n",
       "4  25.0884  "
      ]
     },
     "execution_count": 2,
     "metadata": {},
     "output_type": "execute_result"
    }
   ],
   "source": [
    "names = ['year','month','day','hour','minutes','seconds','u','v','w','T']\n",
    "df = pd.read_excel('homework-04.xlsx',skiprows=np.arange(0,8,step=1),names=names)\n",
    "df.head()"
   ]
  },
  {
   "cell_type": "markdown",
   "metadata": {},
   "source": [
    "\\begin{align}\n",
    "\\sigma^{2} = (\\frac{\\sum{x_{i}^{2}}}{N}) - (\\frac{\\sum{x_{i}}}{N})^{2}\n",
    "\\end{align}"
   ]
  },
  {
   "cell_type": "markdown",
   "metadata": {},
   "source": [
    "\\begin{align}\n",
    "Initialize:   M_{1} = x_{1} and S_{1} = 0\n",
    "\\end{align}"
   ]
  },
  {
   "cell_type": "markdown",
   "metadata": {},
   "source": [
    "\\begin{align}\n",
    "M_{k} = M_{k-1} + (x_{k} - M_{k-1})/k\n",
    "\\end{align}"
   ]
  },
  {
   "cell_type": "markdown",
   "metadata": {},
   "source": [
    "\\begin{align}\n",
    "S_{k} = S_{k-1} + (x_{k} - M_{k-1})*(x_{k} - M_{k})\n",
    "\\end{align}"
   ]
  },
  {
   "cell_type": "markdown",
   "metadata": {},
   "source": [
    "\\begin{align}\n",
    "\\sigma^{2} = \\frac{S_{k}}{k-1}\n",
    "\\end{align}"
   ]
  },
  {
   "cell_type": "code",
   "execution_count": 3,
   "metadata": {},
   "outputs": [
    {
     "ename": "TypeError",
     "evalue": "'float' object cannot be interpreted as an integer",
     "output_type": "error",
     "traceback": [
      "\u001b[1;31m---------------------------------------------------------------------------\u001b[0m",
      "\u001b[1;31mTypeError\u001b[0m                                 Traceback (most recent call last)",
      "\u001b[1;32m<ipython-input-3-c4060f8f712e>\u001b[0m in \u001b[0;36m<module>\u001b[1;34m\u001b[0m\n\u001b[0;32m     43\u001b[0m \u001b[0mvars\u001b[0m \u001b[1;33m=\u001b[0m \u001b[1;33m[\u001b[0m\u001b[1;34m'u'\u001b[0m\u001b[1;33m,\u001b[0m\u001b[1;34m'v'\u001b[0m\u001b[1;33m,\u001b[0m\u001b[1;34m'w'\u001b[0m\u001b[1;33m,\u001b[0m\u001b[1;34m'T'\u001b[0m\u001b[1;33m]\u001b[0m\u001b[1;33m\u001b[0m\u001b[1;33m\u001b[0m\u001b[0m\n\u001b[0;32m     44\u001b[0m \u001b[1;31m#out = [online_mean_variance(var) for var in vars]\u001b[0m\u001b[1;33m\u001b[0m\u001b[1;33m\u001b[0m\u001b[1;33m\u001b[0m\u001b[0m\n\u001b[1;32m---> 45\u001b[1;33m \u001b[0mout\u001b[0m \u001b[1;33m=\u001b[0m \u001b[0monline_mean_variance\u001b[0m\u001b[1;33m(\u001b[0m\u001b[1;34m'u'\u001b[0m\u001b[1;33m,\u001b[0m\u001b[0moutstep\u001b[0m\u001b[1;33m=\u001b[0m\u001b[1;36m1\u001b[0m\u001b[1;33m)\u001b[0m\u001b[1;33m\u001b[0m\u001b[1;33m\u001b[0m\u001b[0m\n\u001b[0m\u001b[0;32m     46\u001b[0m \u001b[0mprint\u001b[0m\u001b[1;33m(\u001b[0m\u001b[1;34m'Mean and standard deviation for all variables calculated using online single-pass algorithm'\u001b[0m\u001b[1;33m)\u001b[0m\u001b[1;33m\u001b[0m\u001b[1;33m\u001b[0m\u001b[0m\n\u001b[0;32m     47\u001b[0m \u001b[0mout\u001b[0m\u001b[1;33m\u001b[0m\u001b[1;33m\u001b[0m\u001b[0m\n",
      "\u001b[1;32m<ipython-input-3-c4060f8f712e>\u001b[0m in \u001b[0;36monline_mean_variance\u001b[1;34m(var, outstep)\u001b[0m\n\u001b[0;32m     25\u001b[0m \u001b[1;32mdef\u001b[0m \u001b[0monline_mean_variance\u001b[0m\u001b[1;33m(\u001b[0m\u001b[0mvar\u001b[0m\u001b[1;33m,\u001b[0m \u001b[0moutstep\u001b[0m\u001b[1;33m=\u001b[0m\u001b[1;36m30\u001b[0m\u001b[1;33m)\u001b[0m\u001b[1;33m:\u001b[0m\u001b[1;33m\u001b[0m\u001b[1;33m\u001b[0m\u001b[0m\n\u001b[0;32m     26\u001b[0m     \u001b[1;34m\"\"\"adapted from John D. Cook's algorithm\"\"\"\u001b[0m\u001b[1;33m\u001b[0m\u001b[1;33m\u001b[0m\u001b[0m\n\u001b[1;32m---> 27\u001b[1;33m     \u001b[0mM\u001b[0m\u001b[1;33m,\u001b[0m\u001b[0mS\u001b[0m\u001b[1;33m,\u001b[0m\u001b[0mM_out\u001b[0m\u001b[1;33m,\u001b[0m\u001b[0mS_out\u001b[0m \u001b[1;33m=\u001b[0m \u001b[0minit\u001b[0m\u001b[1;33m(\u001b[0m\u001b[0moutstep\u001b[0m\u001b[1;33m)\u001b[0m\u001b[1;33m\u001b[0m\u001b[1;33m\u001b[0m\u001b[0m\n\u001b[0m\u001b[0;32m     28\u001b[0m     \u001b[0mM\u001b[0m\u001b[1;33m[\u001b[0m\u001b[1;36m0\u001b[0m\u001b[1;33m]\u001b[0m \u001b[1;33m=\u001b[0m \u001b[0mread_lbl\u001b[0m\u001b[1;33m(\u001b[0m\u001b[1;36m0\u001b[0m\u001b[1;33m)\u001b[0m\u001b[1;33m[\u001b[0m\u001b[0mvar\u001b[0m\u001b[1;33m]\u001b[0m\u001b[1;33m\u001b[0m\u001b[1;33m\u001b[0m\u001b[0m\n\u001b[0;32m     29\u001b[0m     \u001b[0mprint\u001b[0m\u001b[1;33m(\u001b[0m\u001b[0mM\u001b[0m\u001b[1;33m)\u001b[0m\u001b[1;33m\u001b[0m\u001b[1;33m\u001b[0m\u001b[0m\n",
      "\u001b[1;32m<ipython-input-3-c4060f8f712e>\u001b[0m in \u001b[0;36minit\u001b[1;34m(outstep)\u001b[0m\n\u001b[0;32m     16\u001b[0m \u001b[1;33m\u001b[0m\u001b[0m\n\u001b[0;32m     17\u001b[0m \u001b[1;32mdef\u001b[0m \u001b[0minit\u001b[0m\u001b[1;33m(\u001b[0m\u001b[0moutstep\u001b[0m\u001b[1;33m)\u001b[0m\u001b[1;33m:\u001b[0m\u001b[1;33m\u001b[0m\u001b[1;33m\u001b[0m\u001b[0m\n\u001b[1;32m---> 18\u001b[1;33m     \u001b[0mM_out\u001b[0m \u001b[1;33m=\u001b[0m \u001b[0mnp\u001b[0m\u001b[1;33m.\u001b[0m\u001b[0mzeros\u001b[0m\u001b[1;33m(\u001b[0m\u001b[1;36m30.\u001b[0m\u001b[1;33m/\u001b[0m\u001b[0moutstep\u001b[0m\u001b[1;33m)\u001b[0m\u001b[1;33m\u001b[0m\u001b[1;33m\u001b[0m\u001b[0m\n\u001b[0m\u001b[0;32m     19\u001b[0m     \u001b[0mS_out\u001b[0m \u001b[1;33m=\u001b[0m \u001b[0mnp\u001b[0m\u001b[1;33m.\u001b[0m\u001b[0mzeros\u001b[0m\u001b[1;33m(\u001b[0m\u001b[1;36m30.\u001b[0m\u001b[1;33m/\u001b[0m\u001b[0moutstep\u001b[0m\u001b[1;33m)\u001b[0m\u001b[1;33m\u001b[0m\u001b[1;33m\u001b[0m\u001b[0m\n\u001b[0;32m     20\u001b[0m     \u001b[0mM\u001b[0m \u001b[1;33m=\u001b[0m \u001b[0mnp\u001b[0m\u001b[1;33m.\u001b[0m\u001b[0mzeros\u001b[0m\u001b[1;33m(\u001b[0m\u001b[1;36m30\u001b[0m\u001b[1;33m*\u001b[0m\u001b[1;36m60\u001b[0m\u001b[1;33m*\u001b[0m\u001b[1;36m10\u001b[0m\u001b[1;33m)\u001b[0m\u001b[1;33m\u001b[0m\u001b[1;33m\u001b[0m\u001b[0m\n",
      "\u001b[1;31mTypeError\u001b[0m: 'float' object cannot be interpreted as an integer"
     ]
    }
   ],
   "source": [
    "def read_lbl(k):\n",
    "    names = ['year','month','day','hour','minutes','seconds','u','v','w','T']\n",
    "    df = pd.read_excel('homework-04.xlsx',skiprows=np.arange(0,k+8,step=1),names=names,nrows=1.)\n",
    "    return df\n",
    "\n",
    "def online_mean_variance(var):\n",
    "    \"\"\"adapted from John D. Cook's algorithm\"\"\"\n",
    "    M = np.zeros(30*60*10)\n",
    "    M[0] = df[var][0]\n",
    "    S = np.zeros(30*60*10)\n",
    "    for k in range(1,30*60*10):\n",
    "        M[k] = M[k-1] + (df[var][k] - M[k-1])/k\n",
    "        S[k] = S[k-1] + (df[var][k] - M[k-1]) * (df[var][k] - M[k])\n",
    "    s2 =  S/(k-1)\n",
    "    return M[-1], np.sqrt(s2[-1])\n",
    "\n",
    "def init():\n",
    "    M_out = np.zeros(30/1)\n",
    "    S_out = np.zeros(30/1)\n",
    "    M = np.zeros(30*60*10)\n",
    "    S = np.zeros(30*60*10)\n",
    "    return M,S,M_out,S_out\n",
    "\n",
    "#@jit\n",
    "def online_mean_variance(var, outstep=30):\n",
    "    \"\"\"adapted from John D. Cook's algorithm\"\"\"\n",
    "    M,S,M_out,S_out = init(outstep)\n",
    "    M[0] = read_lbl(0)[var]\n",
    "    print(M)\n",
    "    for k in range(1,30*60*10):\n",
    "        M[k] = M[k-1] + (read_lbl(k)[var] - M[k-1])/k\n",
    "        S[k] = S[k-1] + (read_lbl(k)[var] - M[k-1]) * (read_lbl(k)[var] - M[k])\n",
    "        if k == outstep*60*10:\n",
    "            M_out[outstep] = M[k]\n",
    "            print(M_out)\n",
    "            S_out[outstep] = S[k]\n",
    "            print(S_out)\n",
    "            M[k] = 0\n",
    "            S[k] = 0\n",
    "    s2 =  S/(k-1)\n",
    "    return M[-1], s2[-1]\n",
    "\n",
    "vars = ['u','v','w','T']\n",
    "#out = [online_mean_variance(var) for var in vars]\n",
    "out = online_mean_variance('u',outstep=1)\n",
    "print('Mean and standard deviation for all variables calculated using online single-pass algorithm')\n",
    "out"
   ]
  },
  {
   "cell_type": "code",
   "execution_count": null,
   "metadata": {},
   "outputs": [],
   "source": [
    "def online_mean(x):\n",
    "    \"\"\"adapted from John D. Cook's algorithm\"\"\"\n",
    "\n",
    "    M = np.zeros(len(x))\n",
    "    M[0] = x[0]\n",
    "    S = np.zeros(len(x))\n",
    "    for k in range(1,len(x)):\n",
    "        M[k] = M[k-1] + (x[k] - M[k-1])/k\n",
    "        S[k] = S[k-1] + (x[k] - M[k-1]) * (x[k] - M[k])\n",
    "        if k == 30*60*10:\n",
    "            \n",
    "    s2 =  S/(k-1)\n",
    "    return M[-1]\n",
    "\n",
    "def online_std(var):\n",
    "    \"\"\"adapted from John D. Cook's algorithm based on Welford (1964)\"\"\"\n",
    "    x = df[var]\n",
    "\n",
    "    M = np.zeros(len(x))\n",
    "    M[0] = x[0]\n",
    "    S = np.zeros(len(x))\n",
    "    for k in range(1,len(x)):\n",
    "        M[k] = M[k-1] + (x[k] - M[k-1])/k\n",
    "        S[k] = S[k-1] + (x[k] - M[k-1]) * (x[k] - M[k])\n",
    "\n",
    "    s2 =  S/(k-1)\n",
    "    return np.sqrt(s2[-1])"
   ]
  },
  {
   "cell_type": "code",
   "execution_count": null,
   "metadata": {},
   "outputs": [],
   "source": [
    "def online_covariance(data1, data2):\n",
    "    meanx = meany = C = n = 0\n",
    "    for x, y in zip(data1, data2):\n",
    "        n += 1\n",
    "        dx = x - meanx\n",
    "        meanx += dx / n\n",
    "        meany += (y - meany) / n\n",
    "        C += dx * (y - meany)\n",
    "    return C / n"
   ]
  },
  {
   "cell_type": "code",
   "execution_count": null,
   "metadata": {},
   "outputs": [],
   "source": [
    "import math\n",
    "class Welford(object):\n",
    "    \"\"\"from alexalemi\"\"\"\n",
    "    def __init__(self,lst=None):\n",
    "        self.k = 0\n",
    "        self.M = 0\n",
    "        self.S = 0\n",
    "        \n",
    "        self.__call__(lst)\n",
    "    \n",
    "    def update(self,x):\n",
    "        if x is None:\n",
    "            return\n",
    "        self.k += 1\n",
    "        newM = self.M + (x - self.M)*1./self.k\n",
    "        newS = self.S + (x - self.M)*(x - newM)\n",
    "        self.M, self.S = newM, newS\n",
    "\n",
    "    def consume(self,lst):\n",
    "        lst = iter(lst)\n",
    "        for x in lst:\n",
    "            self.update(x)\n",
    "    \n",
    "    def __call__(self,x):\n",
    "        if hasattr(x,\"__iter__\"):\n",
    "            self.consume(x)\n",
    "        else:\n",
    "            self.update(x)\n",
    "            \n",
    "    @property\n",
    "    def mean(self):\n",
    "        return self.M\n",
    "    @property\n",
    "    def meanfull(self):\n",
    "        return self.mean, self.std/math.sqrt(self.k)\n",
    "    @property\n",
    "    def std(self,):\n",
    "        if self.k==1:\n",
    "            return 0\n",
    "        return math.sqrt(self.S/(self.k-1))\n",
    "    def __repr__(self):\n",
    "        return \"<Welford: {} +- {}>\".format(self.mean, self.std)\n",
    "    \n",
    "def get_mean(var):\n",
    "    std = Welford()\n",
    "    std(var)\n",
    "    return std.mean\n",
    "\n",
    "def get_std(var):\n",
    "    std = Welford()\n",
    "    std(df[var])\n",
    "    return std.std"
   ]
  },
  {
   "cell_type": "code",
   "execution_count": null,
   "metadata": {},
   "outputs": [],
   "source": [
    "vars  = ['u','v','w','T']\n",
    "\n",
    "std = [online_std(var) for var in vars]\n",
    "std"
   ]
  },
  {
   "cell_type": "markdown",
   "metadata": {},
   "source": [
    "## 2) Cup Speed and Approximate Cup Speed"
   ]
  },
  {
   "cell_type": "code",
   "execution_count": null,
   "metadata": {},
   "outputs": [],
   "source": [
    "def online_mean_cup_speed(df):\n",
    "    \"\"\"adapted from John D. Cook's algorithm\"\"\"\n",
    "    x = np.sqrt(df['u'] * df['u'] + df['v'] * df['v'])\n",
    "    \n",
    "    M = np.zeros(len(x))\n",
    "    M[0] = x[0]\n",
    "    S = np.zeros(len(x))\n",
    "    for k in range(1,len(x)):\n",
    "        M[k] = M[k-1] + (x[k] - M[k-1])/k\n",
    "        S[k] = S[k-1] + (x[k] - M[k-1]) * (x[k] - M[k])\n",
    "\n",
    "    s2 =  S/(k-1)\n",
    "    return M[-1]\n",
    "\n",
    "def cup_speed(df):\n",
    "    return np.sqrt(df['u'] * df['u'] + df['v'] * df['v'])\n",
    "\n",
    "def approx_cup_speed(df):\n",
    "    u_bar = online_mean(df['u'])\n",
    "    v_prime = online_covariance(df['v'],df['v'])\n",
    "    #v_prime = 1.8642089665121815 * 1.8642089665121815\n",
    "    return u_bar * (1 + v_prime / (2 * u_bar * u_bar))"
   ]
  },
  {
   "cell_type": "markdown",
   "metadata": {},
   "source": [
    "**Approximate Cup Speed**"
   ]
  },
  {
   "cell_type": "markdown",
   "metadata": {},
   "source": [
    "\\begin{align}\n",
    "\\bar{U} = \\bar{u} (1 + \\bar{v'^{2}} / 2\\bar{u}^{2})\n",
    "\\end{align}"
   ]
  },
  {
   "cell_type": "code",
   "execution_count": null,
   "metadata": {},
   "outputs": [],
   "source": [
    "# Using absolute cup speed from ABL notes\n",
    "U_bar = online_mean_cup_speed(df)\n",
    "U_bar"
   ]
  },
  {
   "cell_type": "code",
   "execution_count": null,
   "metadata": {},
   "outputs": [],
   "source": [
    "# Using approximation of cup speed from ABL notes\n",
    "U = approx_cup_speed(df)\n",
    "U"
   ]
  },
  {
   "cell_type": "markdown",
   "metadata": {},
   "source": [
    "The two methods in this case give a very similar result. The mean wind speed U_bar is still larger than either of the individual horizontal wind components, which is qualitatively what we would expect to see. However, the approximation seems to underestimate the horizontal wind speed, atleast in this scenario. "
   ]
  },
  {
   "cell_type": "markdown",
   "metadata": {},
   "source": [
    "## 3) Skewness"
   ]
  },
  {
   "cell_type": "code",
   "execution_count": null,
   "metadata": {},
   "outputs": [],
   "source": [
    "def kp_skewness(df):\n",
    "    \"\"\"Karl Pearson's coefficient of skewness\"\"\"\n",
    "    return 3*(np.mean(df) - np.median(df,axis=0))/np.std(df)\n",
    "\n",
    "def skewness(df):\n",
    "    return np.sum((df - np.mean(df))**3) / len(df) / np.std(df)**3\n",
    " "
   ]
  },
  {
   "cell_type": "code",
   "execution_count": null,
   "metadata": {},
   "outputs": [],
   "source": [
    "# Skewness from the notes\n",
    "sk = skewness(df)\n",
    "sk"
   ]
  },
  {
   "cell_type": "code",
   "execution_count": null,
   "metadata": {},
   "outputs": [],
   "source": [
    "# Karl Pearson skewness\n",
    "sk = kp_skewness(df)\n",
    "sk"
   ]
  },
  {
   "cell_type": "code",
   "execution_count": null,
   "metadata": {},
   "outputs": [],
   "source": [
    "import matplotlib.pyplot as plt\n",
    "\n",
    "ax = plt.axes()\n",
    "ax.axvline(np.mean(df['u']),linestyle='--',c='blue',zorder=100)\n",
    "ax.axvline(np.mean(df['v']),linestyle='--',c='red',zorder=101)\n",
    "ax.axvline(np.mean(df['w']),linestyle='--',c='green',zorder=102)\n",
    "\n",
    "ax.axvline(np.median(df['u']),linestyle='--',c='blue',zorder=201)\n",
    "ax.axvline(np.median(df['v']),linestyle='--',c='red',zorder=202)\n",
    "ax.axvline(np.median(df['w']),linestyle='--',c='green',zorder=203)\n",
    "\n",
    "ax.hist(df['u'],bins=np.arange(0,10,step=0.5),color='blue',alpha=0.5)\n",
    "ax.hist(df['v'],bins=np.arange(-6,6.5,step=0.5),color='red',alpha=0.5)\n",
    "ax.hist(df['w'],bins=np.arange(-4,4.5,step=0.5),color='green',alpha=0.5)\n",
    "\n",
    "plt.legend(['u','v','w']);"
   ]
  },
  {
   "cell_type": "code",
   "execution_count": null,
   "metadata": {},
   "outputs": [],
   "source": [
    "import matplotlib.pyplot as plt\n",
    "\n",
    "ax = plt.axes()\n",
    "#ax.axvline(np.mean(df['w']),linestyle='--',c='blue',zorder=100)\n",
    "ax.axvline(np.mean(df['T']),linestyle='--',c='red',zorder=101)\n",
    "\n",
    "#ax.axvline(np.median(df['w']),linestyle='--',c='blue',zorder=102)\n",
    "ax.axvline(np.median(df['T']),linestyle='--',c='red',zorder=103)\n",
    "\n",
    "#ax.hist(df['w'],bins=np.arange(0,10,step=0.5),color='blue',alpha=0.5)\n",
    "ax.hist(df['T'],bins=np.arange(23.5,26.5,step=0.1),color='red',alpha=0.5);"
   ]
  }
 ],
 "metadata": {
  "kernelspec": {
   "display_name": "Python 3",
   "language": "python",
   "name": "python3"
  },
  "language_info": {
   "codemirror_mode": {
    "name": "ipython",
    "version": 3
   },
   "file_extension": ".py",
   "mimetype": "text/x-python",
   "name": "python",
   "nbconvert_exporter": "python",
   "pygments_lexer": "ipython3",
   "version": "3.7.3"
  }
 },
 "nbformat": 4,
 "nbformat_minor": 4
}
